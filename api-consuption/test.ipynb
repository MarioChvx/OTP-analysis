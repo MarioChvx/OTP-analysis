{
 "cells": [
  {
   "cell_type": "code",
   "execution_count": 100,
   "metadata": {},
   "outputs": [],
   "source": [
    "from riotwatcher import LolWatcher, ApiError\n",
    "import pandas as pd\n",
    "from pathlib import Path"
   ]
  },
  {
   "cell_type": "code",
   "execution_count": 106,
   "metadata": {},
   "outputs": [
    {
     "data": {
      "text/plain": [
       "{'id': 'uVSYwamzj7jppGYdIjpcKtZHHXM95Qu1A4-9ZefxXzyUXRL8',\n",
       " 'accountId': 'iIj2o_9U8xc3Xxuqw4nLk1M93UL5Ibdcd6e3uDrkFWLmge_R-Uri87r7',\n",
       " 'puuid': 'SRB0Sfy7gvgikz4A0kMwvOK45EE3L5Ru-9-U1PYmUOZpYDCQxNg8wIa8xnIK5bOM483H-aCVE2mvUg',\n",
       " 'name': 'PERC0010',\n",
       " 'profileIconId': 3152,\n",
       " 'revisionDate': 1662614709000,\n",
       " 'summonerLevel': 51}"
      ]
     },
     "execution_count": 106,
     "metadata": {},
     "output_type": "execute_result"
    }
   ],
   "source": [
    "path = 'G:\\\\Media\\\\Documents\\\\0portfolio\\\\OTP-analysis\\\\api-consuption\\\\apikey.txt'\n",
    "with open(path,'r') as f:\n",
    "    key = f.readline()\n",
    "f.close()\n",
    "watcher = LolWatcher(key)\n",
    "player_name = 'PERC0010'\n",
    "player_region = 'na1'\n",
    "\n",
    "player = watcher.summoner.by_name(player_region, player_name)\n",
    "player"
   ]
  },
  {
   "cell_type": "code",
   "execution_count": 107,
   "metadata": {},
   "outputs": [
    {
     "data": {
      "text/plain": [
       "'NA1_4429233914'"
      ]
     },
     "execution_count": 107,
     "metadata": {},
     "output_type": "execute_result"
    }
   ],
   "source": [
    "player_matches = watcher.match.matchlist_by_puuid(player_region, player['puuid'])\n",
    "player_matches[0]"
   ]
  },
  {
   "cell_type": "code",
   "execution_count": 108,
   "metadata": {},
   "outputs": [
    {
     "name": "stdout",
     "output_type": "stream",
     "text": [
      "metadata\n",
      "info\n"
     ]
    }
   ],
   "source": [
    "match_details = watcher.match.by_id(player_region, player_matches[0])\n",
    "\n",
    "for item in match_details:\n",
    "    print(item)"
   ]
  },
  {
   "cell_type": "code",
   "execution_count": 109,
   "metadata": {},
   "outputs": [
    {
     "name": "stdout",
     "output_type": "stream",
     "text": [
      "dataVersion\n",
      "matchId\n",
      "participants\n"
     ]
    }
   ],
   "source": [
    "for item in match_details['metadata']:\n",
    "    print(item)"
   ]
  },
  {
   "cell_type": "code",
   "execution_count": 110,
   "metadata": {},
   "outputs": [
    {
     "name": "stdout",
     "output_type": "stream",
     "text": [
      "2\n",
      "NA1_4429233914\n",
      "['wx4VqcVrB_PMFLQFvTnoJMGdroyFPyrpl-BkV2Yqli6WDIt58M1Ao85SbT37A3Bu1R98iA98Keq_Pg', 'K1Wbv4HR7gkmJIRfxqVBn31d7bdG_h2PcRJLvUc0x1Lqau4UMiqAJ_W6CkDrHjZEd-CoskwLkv9kVA', 'wcYyPPRR0teor8NXF5e3dvMzc2XyHUkmT84V36voiAw74fWYSpUPICnoCzbxFj9T8icZtkES5816Ww', 'RwhuXQO2DjsDwg3JSML_lMXIFrbhOd2OIk-a_brRXpqriGlPdNMRW9anrVbilK5U1Bvnmv1lFApTsQ', 'YPbuY7ahiq2Zu3nOvmLgWAAD7mLOK4hsyM3nZWBk8Yv67wsRCICh6JsPQIlmT0Hco_Ii4tyh2rIUiw', 'gvWO9d--4RGj5p_sqZP5FnvxKR2fZ-AKMNBpP2BbDuyvmkAfzErfGyjiaXICQlZb51F5fNwdiHxhGQ', 'ogrMfReCKqY8Tsd1s3YUi4pP20zlevnRiEYYRWLELWsvxMcmH2mZrDGo6wHsV-ta5c5sy1xOSrU96Q', 'x7gdQe2m8IGROjI9jSg2ELlNyQ8ha_601_MHZP2HImsgIiuOBzvHjnNai6wlp7gFA-14bi5wUTfjgQ', 'cNlvuWZjoi7RdDb7hQ3DUAxu6XkAfGoDyN3Jb_mJP4j84mNlRf4AjptjR1N19L5JDgkKRWZFZ255ZA', 'SRB0Sfy7gvgikz4A0kMwvOK45EE3L5Ru-9-U1PYmUOZpYDCQxNg8wIa8xnIK5bOM483H-aCVE2mvUg']\n"
     ]
    }
   ],
   "source": [
    "print(match_details['metadata']['dataVersion'])\n",
    "print(match_details['metadata']['matchId'])\n",
    "print(match_details['metadata']['participants'])"
   ]
  },
  {
   "cell_type": "code",
   "execution_count": null,
   "metadata": {},
   "outputs": [
    {
     "name": "stdout",
     "output_type": "stream",
     "text": [
      "gameCreation\n",
      "gameDuration\n",
      "gameEndTimestamp\n",
      "gameId\n",
      "gameMode\n",
      "gameName\n",
      "gameStartTimestamp\n",
      "gameType\n",
      "gameVersion\n",
      "mapId\n",
      "participants\n",
      "platformId\n",
      "queueId\n",
      "teams\n",
      "tournamentCode\n"
     ]
    }
   ],
   "source": [
    "for item in match_details['info']:\n",
    "    print(item)"
   ]
  },
  {
   "cell_type": "code",
   "execution_count": 159,
   "metadata": {},
   "outputs": [
    {
     "name": "stdout",
     "output_type": "stream",
     "text": [
      "gameCreation = 1662613218976\n",
      "gameDuration = 1436\n",
      "gameEndTimestamp = 1662614701263\n",
      "gameId = 4429233914\n",
      "gameMode = CLASSIC\n",
      "gameName = teambuilder-match-4429233914\n",
      "gameStartTimestamp = 1662613264967\n",
      "gameType = MATCHED_GAME\n",
      "gameVersion = 12.16.462.4391\n",
      "mapId = 11\n",
      "participants = BIG JSON\n",
      "platformId = NA1\n",
      "queueId = 420\n",
      "teams = [{'bans': [{'championId': 131, 'pickTurn': 1}, {'championId': 350, 'pickTurn': 2}, {'championId': -1, 'pickTurn': 3}, {'championId': 7, 'pickTurn': 4}, {'championId': 32, 'pickTurn': 5}], 'objectives': {'baron': {'first': False, 'kills': 0}, 'champion': {'first': True, 'kills': 41}, 'dragon': {'first': True, 'kills': 3}, 'inhibitor': {'first': True, 'kills': 3}, 'riftHerald': {'first': False, 'kills': 0}, 'tower': {'first': True, 'kills': 11}}, 'teamId': 100, 'win': True}, {'bans': [{'championId': 2, 'pickTurn': 6}, {'championId': 77, 'pickTurn': 7}, {'championId': 131, 'pickTurn': 8}, {'championId': 89, 'pickTurn': 9}, {'championId': 350, 'pickTurn': 10}], 'objectives': {'baron': {'first': False, 'kills': 0}, 'champion': {'first': False, 'kills': 20}, 'dragon': {'first': False, 'kills': 0}, 'inhibitor': {'first': False, 'kills': 0}, 'riftHerald': {'first': True, 'kills': 1}, 'tower': {'first': False, 'kills': 2}}, 'teamId': 200, 'win': False}]\n",
      "tournamentCode = \n"
     ]
    }
   ],
   "source": [
    "for key, value in match_details['info'].items():\n",
    "    if key == 'participants':\n",
    "        print(f\"participants = BIG JSON\")\n",
    "    else:\n",
    "        print(f\"{key} = {value}\")"
   ]
  },
  {
   "cell_type": "code",
   "execution_count": 148,
   "metadata": {},
   "outputs": [],
   "source": [
    "def build_bans(match):\n",
    "    bans = []\n",
    "    for i in range(0,2,1):\n",
    "        for ban in match['info']['teams'][i]['bans']:\n",
    "            bans.append(ban['championId'])\n",
    "    return bans"
   ]
  },
  {
   "cell_type": "code",
   "execution_count": 149,
   "metadata": {},
   "outputs": [
    {
     "name": "stdout",
     "output_type": "stream",
     "text": [
      "[131, 350, -1, 7, 32, 2, 77, 131, 89, 350]\n"
     ]
    }
   ],
   "source": [
    "print(build_bans(match_details))"
   ]
  },
  {
   "cell_type": "code",
   "execution_count": 150,
   "metadata": {},
   "outputs": [],
   "source": [
    "match_part = {\n",
    "    'championId': [],\n",
    "    'championName': [],\n",
    "    'championTransform': [],\n",
    "    'eligibleForProgression': [],\n",
    "    'individualPosition': [],\n",
    "    'lane': [],\n",
    "    'participantId': [],\n",
    "    'profileIcon': [],\n",
    "    'puuid': [],\n",
    "    'role': [],\n",
    "    'summonerId': [],\n",
    "    'summonerLevel': [],\n",
    "    'summonerName': [],\n",
    "    'teamId': [],\n",
    "    'teamPosition': [],\n",
    "    'win': []\n",
    "}\n"
   ]
  },
  {
   "cell_type": "code",
   "execution_count": 151,
   "metadata": {},
   "outputs": [],
   "source": [
    "for row in match_details['info']['participants']:\n",
    "    match_part['championId'].append(row['championId'])\n",
    "    match_part['championName'].append(row['championName'])\n",
    "    match_part['championTransform'].append(row['championTransform'])\n",
    "    match_part['eligibleForProgression'].append(row['eligibleForProgression'])\n",
    "    match_part['individualPosition'].append(row['individualPosition'])\n",
    "    match_part['lane'].append(row['lane'])\n",
    "    match_part['participantId'].append(row['participantId'])\n",
    "    match_part['profileIcon'].append(row['profileIcon'])\n",
    "    match_part['puuid'].append(row['puuid'])\n",
    "    match_part['role'].append(row['role'])\n",
    "    match_part['summonerId'].append(row['summonerId'])\n",
    "    match_part['summonerLevel'].append(row['summonerLevel'])\n",
    "    match_part['summonerName'].append(row['summonerName'])\n",
    "    match_part['teamId'].append(row['teamId'])\n",
    "    match_part['teamPosition'].append(row['teamPosition'])\n",
    "    match_part['win'].append(row['win'])"
   ]
  },
  {
   "cell_type": "code",
   "execution_count": 153,
   "metadata": {},
   "outputs": [
    {
     "data": {
      "text/html": [
       "<div>\n",
       "<style scoped>\n",
       "    .dataframe tbody tr th:only-of-type {\n",
       "        vertical-align: middle;\n",
       "    }\n",
       "\n",
       "    .dataframe tbody tr th {\n",
       "        vertical-align: top;\n",
       "    }\n",
       "\n",
       "    .dataframe thead th {\n",
       "        text-align: right;\n",
       "    }\n",
       "</style>\n",
       "<table border=\"1\" class=\"dataframe\">\n",
       "  <thead>\n",
       "    <tr style=\"text-align: right;\">\n",
       "      <th></th>\n",
       "      <th>championId</th>\n",
       "      <th>championName</th>\n",
       "      <th>championTransform</th>\n",
       "      <th>eligibleForProgression</th>\n",
       "      <th>individualPosition</th>\n",
       "      <th>lane</th>\n",
       "      <th>participantId</th>\n",
       "      <th>profileIcon</th>\n",
       "      <th>puuid</th>\n",
       "      <th>role</th>\n",
       "      <th>summonerId</th>\n",
       "      <th>summonerLevel</th>\n",
       "      <th>summonerName</th>\n",
       "      <th>teamId</th>\n",
       "      <th>teamPosition</th>\n",
       "      <th>win</th>\n",
       "    </tr>\n",
       "  </thead>\n",
       "  <tbody>\n",
       "    <tr>\n",
       "      <th>0</th>\n",
       "      <td>10</td>\n",
       "      <td>Kayle</td>\n",
       "      <td>0</td>\n",
       "      <td>True</td>\n",
       "      <td>TOP</td>\n",
       "      <td>TOP</td>\n",
       "      <td>1</td>\n",
       "      <td>907</td>\n",
       "      <td>wx4VqcVrB_PMFLQFvTnoJMGdroyFPyrpl-BkV2Yqli6WDI...</td>\n",
       "      <td>SOLO</td>\n",
       "      <td>ofeqFY-ADOVPOgEeiUxapmSq8zIDdCx7yg-VJBXXCGRBmD...</td>\n",
       "      <td>37</td>\n",
       "      <td>paputokkanaba</td>\n",
       "      <td>100</td>\n",
       "      <td>TOP</td>\n",
       "      <td>True</td>\n",
       "    </tr>\n",
       "    <tr>\n",
       "      <th>1</th>\n",
       "      <td>30</td>\n",
       "      <td>Karthus</td>\n",
       "      <td>0</td>\n",
       "      <td>True</td>\n",
       "      <td>JUNGLE</td>\n",
       "      <td>JUNGLE</td>\n",
       "      <td>2</td>\n",
       "      <td>1301</td>\n",
       "      <td>K1Wbv4HR7gkmJIRfxqVBn31d7bdG_h2PcRJLvUc0x1Lqau...</td>\n",
       "      <td>NONE</td>\n",
       "      <td>pnT-ZxgdNTxZkEM1EyuiY9Mw9iLrsJiOIFWLZ_-MTqSPkxQ</td>\n",
       "      <td>120</td>\n",
       "      <td>TateTopG</td>\n",
       "      <td>100</td>\n",
       "      <td>JUNGLE</td>\n",
       "      <td>True</td>\n",
       "    </tr>\n",
       "    <tr>\n",
       "      <th>2</th>\n",
       "      <td>157</td>\n",
       "      <td>Yasuo</td>\n",
       "      <td>0</td>\n",
       "      <td>True</td>\n",
       "      <td>MIDDLE</td>\n",
       "      <td>MIDDLE</td>\n",
       "      <td>3</td>\n",
       "      <td>5430</td>\n",
       "      <td>wcYyPPRR0teor8NXF5e3dvMzc2XyHUkmT84V36voiAw74f...</td>\n",
       "      <td>SOLO</td>\n",
       "      <td>qmDDH4k_dYjVRjfXDFO8kxYF9uQSf1SsMjipnhYutbNwX0vI</td>\n",
       "      <td>442</td>\n",
       "      <td>Inting Genius</td>\n",
       "      <td>100</td>\n",
       "      <td>MIDDLE</td>\n",
       "      <td>True</td>\n",
       "    </tr>\n",
       "    <tr>\n",
       "      <th>3</th>\n",
       "      <td>119</td>\n",
       "      <td>Draven</td>\n",
       "      <td>0</td>\n",
       "      <td>True</td>\n",
       "      <td>BOTTOM</td>\n",
       "      <td>BOTTOM</td>\n",
       "      <td>4</td>\n",
       "      <td>5414</td>\n",
       "      <td>RwhuXQO2DjsDwg3JSML_lMXIFrbhOd2OIk-a_brRXpqriG...</td>\n",
       "      <td>CARRY</td>\n",
       "      <td>pV7JcGykvPopYXjSpEPObIzMEOlyU85E4oE9Td51OFDmvIU</td>\n",
       "      <td>77</td>\n",
       "      <td>JustTwoLetterSho</td>\n",
       "      <td>100</td>\n",
       "      <td>BOTTOM</td>\n",
       "      <td>True</td>\n",
       "    </tr>\n",
       "    <tr>\n",
       "      <th>4</th>\n",
       "      <td>53</td>\n",
       "      <td>Blitzcrank</td>\n",
       "      <td>0</td>\n",
       "      <td>True</td>\n",
       "      <td>UTILITY</td>\n",
       "      <td>BOTTOM</td>\n",
       "      <td>5</td>\n",
       "      <td>4244</td>\n",
       "      <td>YPbuY7ahiq2Zu3nOvmLgWAAD7mLOK4hsyM3nZWBk8Yv67w...</td>\n",
       "      <td>SUPPORT</td>\n",
       "      <td>p70pZNkk3P3cdZ5fusmdx3e2Tl_pAu6ZDBWYZTYC6uBr_A0</td>\n",
       "      <td>353</td>\n",
       "      <td>shaneon</td>\n",
       "      <td>100</td>\n",
       "      <td>UTILITY</td>\n",
       "      <td>True</td>\n",
       "    </tr>\n",
       "    <tr>\n",
       "      <th>5</th>\n",
       "      <td>6</td>\n",
       "      <td>Urgot</td>\n",
       "      <td>0</td>\n",
       "      <td>True</td>\n",
       "      <td>TOP</td>\n",
       "      <td>TOP</td>\n",
       "      <td>6</td>\n",
       "      <td>5413</td>\n",
       "      <td>gvWO9d--4RGj5p_sqZP5FnvxKR2fZ-AKMNBpP2BbDuyvmk...</td>\n",
       "      <td>SOLO</td>\n",
       "      <td>Uhw8gaBJjSJdx9DzSQIR_nRo-BHfYUZay548CaHuZoaeSp...</td>\n",
       "      <td>37</td>\n",
       "      <td>Y3sImJeff</td>\n",
       "      <td>200</td>\n",
       "      <td>TOP</td>\n",
       "      <td>False</td>\n",
       "    </tr>\n",
       "    <tr>\n",
       "      <th>6</th>\n",
       "      <td>234</td>\n",
       "      <td>Viego</td>\n",
       "      <td>0</td>\n",
       "      <td>True</td>\n",
       "      <td>JUNGLE</td>\n",
       "      <td>JUNGLE</td>\n",
       "      <td>7</td>\n",
       "      <td>4636</td>\n",
       "      <td>ogrMfReCKqY8Tsd1s3YUi4pP20zlevnRiEYYRWLELWsvxM...</td>\n",
       "      <td>NONE</td>\n",
       "      <td>MCFWcl4YJxFeA4mImCjsOaBybGf8MLTzstyfIIkOR_vKaZs</td>\n",
       "      <td>342</td>\n",
       "      <td>AOE rise</td>\n",
       "      <td>200</td>\n",
       "      <td>JUNGLE</td>\n",
       "      <td>False</td>\n",
       "    </tr>\n",
       "    <tr>\n",
       "      <th>7</th>\n",
       "      <td>711</td>\n",
       "      <td>Vex</td>\n",
       "      <td>0</td>\n",
       "      <td>True</td>\n",
       "      <td>MIDDLE</td>\n",
       "      <td>MIDDLE</td>\n",
       "      <td>8</td>\n",
       "      <td>4073</td>\n",
       "      <td>x7gdQe2m8IGROjI9jSg2ELlNyQ8ha_601_MHZP2HImsgIi...</td>\n",
       "      <td>DUO</td>\n",
       "      <td>AND5O_Awgb8OpId1CCxNXYjB61PS-qWhhDvnUjW6CUSB9ZQ</td>\n",
       "      <td>132</td>\n",
       "      <td>Shad0wRa1d</td>\n",
       "      <td>200</td>\n",
       "      <td>MIDDLE</td>\n",
       "      <td>False</td>\n",
       "    </tr>\n",
       "    <tr>\n",
       "      <th>8</th>\n",
       "      <td>21</td>\n",
       "      <td>MissFortune</td>\n",
       "      <td>0</td>\n",
       "      <td>True</td>\n",
       "      <td>BOTTOM</td>\n",
       "      <td>MIDDLE</td>\n",
       "      <td>9</td>\n",
       "      <td>4660</td>\n",
       "      <td>cNlvuWZjoi7RdDb7hQ3DUAxu6XkAfGoDyN3Jb_mJP4j84m...</td>\n",
       "      <td>DUO</td>\n",
       "      <td>FJlA7pdNQTXfCA47YNzgNorcIPa-u62hMruPzgdH9t-VxEk</td>\n",
       "      <td>375</td>\n",
       "      <td>LongCoccCrip</td>\n",
       "      <td>200</td>\n",
       "      <td>BOTTOM</td>\n",
       "      <td>False</td>\n",
       "    </tr>\n",
       "    <tr>\n",
       "      <th>9</th>\n",
       "      <td>99</td>\n",
       "      <td>Lux</td>\n",
       "      <td>0</td>\n",
       "      <td>True</td>\n",
       "      <td>UTILITY</td>\n",
       "      <td>BOTTOM</td>\n",
       "      <td>10</td>\n",
       "      <td>3152</td>\n",
       "      <td>SRB0Sfy7gvgikz4A0kMwvOK45EE3L5Ru-9-U1PYmUOZpYD...</td>\n",
       "      <td>SOLO</td>\n",
       "      <td>uVSYwamzj7jppGYdIjpcKtZHHXM95Qu1A4-9ZefxXzyUXRL8</td>\n",
       "      <td>51</td>\n",
       "      <td>PERC0010</td>\n",
       "      <td>200</td>\n",
       "      <td>UTILITY</td>\n",
       "      <td>False</td>\n",
       "    </tr>\n",
       "  </tbody>\n",
       "</table>\n",
       "</div>"
      ],
      "text/plain": [
       "   championId championName  championTransform  eligibleForProgression  \\\n",
       "0          10        Kayle                  0                    True   \n",
       "1          30      Karthus                  0                    True   \n",
       "2         157        Yasuo                  0                    True   \n",
       "3         119       Draven                  0                    True   \n",
       "4          53   Blitzcrank                  0                    True   \n",
       "5           6        Urgot                  0                    True   \n",
       "6         234        Viego                  0                    True   \n",
       "7         711          Vex                  0                    True   \n",
       "8          21  MissFortune                  0                    True   \n",
       "9          99          Lux                  0                    True   \n",
       "\n",
       "  individualPosition    lane  participantId  profileIcon  \\\n",
       "0                TOP     TOP              1          907   \n",
       "1             JUNGLE  JUNGLE              2         1301   \n",
       "2             MIDDLE  MIDDLE              3         5430   \n",
       "3             BOTTOM  BOTTOM              4         5414   \n",
       "4            UTILITY  BOTTOM              5         4244   \n",
       "5                TOP     TOP              6         5413   \n",
       "6             JUNGLE  JUNGLE              7         4636   \n",
       "7             MIDDLE  MIDDLE              8         4073   \n",
       "8             BOTTOM  MIDDLE              9         4660   \n",
       "9            UTILITY  BOTTOM             10         3152   \n",
       "\n",
       "                                               puuid     role  \\\n",
       "0  wx4VqcVrB_PMFLQFvTnoJMGdroyFPyrpl-BkV2Yqli6WDI...     SOLO   \n",
       "1  K1Wbv4HR7gkmJIRfxqVBn31d7bdG_h2PcRJLvUc0x1Lqau...     NONE   \n",
       "2  wcYyPPRR0teor8NXF5e3dvMzc2XyHUkmT84V36voiAw74f...     SOLO   \n",
       "3  RwhuXQO2DjsDwg3JSML_lMXIFrbhOd2OIk-a_brRXpqriG...    CARRY   \n",
       "4  YPbuY7ahiq2Zu3nOvmLgWAAD7mLOK4hsyM3nZWBk8Yv67w...  SUPPORT   \n",
       "5  gvWO9d--4RGj5p_sqZP5FnvxKR2fZ-AKMNBpP2BbDuyvmk...     SOLO   \n",
       "6  ogrMfReCKqY8Tsd1s3YUi4pP20zlevnRiEYYRWLELWsvxM...     NONE   \n",
       "7  x7gdQe2m8IGROjI9jSg2ELlNyQ8ha_601_MHZP2HImsgIi...      DUO   \n",
       "8  cNlvuWZjoi7RdDb7hQ3DUAxu6XkAfGoDyN3Jb_mJP4j84m...      DUO   \n",
       "9  SRB0Sfy7gvgikz4A0kMwvOK45EE3L5Ru-9-U1PYmUOZpYD...     SOLO   \n",
       "\n",
       "                                          summonerId  summonerLevel  \\\n",
       "0  ofeqFY-ADOVPOgEeiUxapmSq8zIDdCx7yg-VJBXXCGRBmD...             37   \n",
       "1    pnT-ZxgdNTxZkEM1EyuiY9Mw9iLrsJiOIFWLZ_-MTqSPkxQ            120   \n",
       "2   qmDDH4k_dYjVRjfXDFO8kxYF9uQSf1SsMjipnhYutbNwX0vI            442   \n",
       "3    pV7JcGykvPopYXjSpEPObIzMEOlyU85E4oE9Td51OFDmvIU             77   \n",
       "4    p70pZNkk3P3cdZ5fusmdx3e2Tl_pAu6ZDBWYZTYC6uBr_A0            353   \n",
       "5  Uhw8gaBJjSJdx9DzSQIR_nRo-BHfYUZay548CaHuZoaeSp...             37   \n",
       "6    MCFWcl4YJxFeA4mImCjsOaBybGf8MLTzstyfIIkOR_vKaZs            342   \n",
       "7    AND5O_Awgb8OpId1CCxNXYjB61PS-qWhhDvnUjW6CUSB9ZQ            132   \n",
       "8    FJlA7pdNQTXfCA47YNzgNorcIPa-u62hMruPzgdH9t-VxEk            375   \n",
       "9   uVSYwamzj7jppGYdIjpcKtZHHXM95Qu1A4-9ZefxXzyUXRL8             51   \n",
       "\n",
       "       summonerName  teamId teamPosition    win  \n",
       "0     paputokkanaba     100          TOP   True  \n",
       "1          TateTopG     100       JUNGLE   True  \n",
       "2     Inting Genius     100       MIDDLE   True  \n",
       "3  JustTwoLetterSho     100       BOTTOM   True  \n",
       "4           shaneon     100      UTILITY   True  \n",
       "5         Y3sImJeff     200          TOP  False  \n",
       "6          AOE rise     200       JUNGLE  False  \n",
       "7        Shad0wRa1d     200       MIDDLE  False  \n",
       "8      LongCoccCrip     200       BOTTOM  False  \n",
       "9          PERC0010     200      UTILITY  False  "
      ]
     },
     "execution_count": 153,
     "metadata": {},
     "output_type": "execute_result"
    }
   ],
   "source": [
    "df_match_part = pd.DataFrame(match_part)\n",
    "df_match_part"
   ]
  }
 ],
 "metadata": {
  "kernelspec": {
   "display_name": "Python 3.10.5 ('venv': venv)",
   "language": "python",
   "name": "python3"
  },
  "language_info": {
   "codemirror_mode": {
    "name": "ipython",
    "version": 3
   },
   "file_extension": ".py",
   "mimetype": "text/x-python",
   "name": "python",
   "nbconvert_exporter": "python",
   "pygments_lexer": "ipython3",
   "version": "3.10.5"
  },
  "orig_nbformat": 4,
  "vscode": {
   "interpreter": {
    "hash": "d936f3cb573388ded3e9459b7f41be1c5dc264e212e652bc4304c5e40a1a7aef"
   }
  }
 },
 "nbformat": 4,
 "nbformat_minor": 2
}
